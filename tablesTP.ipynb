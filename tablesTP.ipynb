{
 "cells": [
  {
   "cell_type": "code",
   "execution_count": 1,
   "metadata": {},
   "outputs": [
    {
     "data": {
      "text/plain": [
       "'C:\\\\spark'"
      ]
     },
     "execution_count": 1,
     "metadata": {},
     "output_type": "execute_result"
    }
   ],
   "source": [
    "import findspark\n",
    "findspark.init()\n",
    "findspark.find()\n",
    "import pyspark\n",
    "findspark.find()"
   ]
  },
  {
   "cell_type": "code",
   "execution_count": 2,
   "metadata": {},
   "outputs": [],
   "source": [
    "# Importation\n",
    "\n",
    "from pyspark.sql import SparkSession\n",
    "from pyspark.sql import functions as F\n",
    "from pyspark import SparkContext\n",
    "\n",
    "# Instantiation\n",
    "spark = SparkSession.builder.master(\"local\").appName(\"FolksDF\").getOrCreate()"
   ]
  },
  {
   "cell_type": "markdown",
   "metadata": {},
   "source": [
    "creation de tables"
   ]
  },
  {
   "cell_type": "code",
   "execution_count": 3,
   "metadata": {},
   "outputs": [
    {
     "name": "stdout",
     "output_type": "stream",
     "text": [
      "+---+-------+\n",
      "| Id|Adresse|\n",
      "+---+-------+\n",
      "| 75|  Paris|\n",
      "| 51|  Reims|\n",
      "| 06|   Nice|\n",
      "+---+-------+\n",
      "\n"
     ]
    }
   ],
   "source": [
    "l1 = [('75','Paris'),('51','Reims'),('06','Nice')]\n",
    "rdd1 = spark.sparkContext.parallelize(l1)\n",
    "Agence = rdd1.toDF(['Id','Adresse'])\n",
    "Agence.createOrReplaceTempView('AgenceSQL')\n",
    "Agence.show()"
   ]
  },
  {
   "cell_type": "code",
   "execution_count": 4,
   "metadata": {},
   "outputs": [
    {
     "name": "stdout",
     "output_type": "stream",
     "text": [
      "+---+----+\n",
      "|Idm|Prix|\n",
      "+---+----+\n",
      "|  1|  10|\n",
      "|  2|  20|\n",
      "|  3|  60|\n",
      "+---+----+\n",
      "\n"
     ]
    }
   ],
   "source": [
    "l2 = [('1','10'),('2','20'),('3','60')]\n",
    "rdd2 = spark.sparkContext.parallelize(l2) #On obtient un rdd\n",
    "Prix = rdd2.toDF(['Idm','Prix'])\n",
    "Prix.createOrReplaceTempView('PrixSQL')\n",
    "Prix.show()"
   ]
  },
  {
   "cell_type": "code",
   "execution_count": 5,
   "metadata": {},
   "outputs": [
    {
     "name": "stdout",
     "output_type": "stream",
     "text": [
      "+---+-------+-------+\n",
      "|Idm| Marque|Produit|\n",
      "+---+-------+-------+\n",
      "|  1|   Sony| Souris|\n",
      "|  2|Samsung|Clavier|\n",
      "|  3|    Mac|  Ecran|\n",
      "+---+-------+-------+\n",
      "\n"
     ]
    }
   ],
   "source": [
    "l3 = [('1','Sony','Souris'),('2','Samsung','Clavier'),('3','Mac','Ecran')]\n",
    "rdd3 = spark.sparkContext.parallelize(l3) #On obtient un rdd\n",
    "Produit = rdd3.toDF(['Idm','Marque','Produit'])\n",
    "Produit.createOrReplaceTempView('ProduitSQL')\n",
    "Produit.show()"
   ]
  },
  {
   "cell_type": "code",
   "execution_count": 6,
   "metadata": {},
   "outputs": [
    {
     "name": "stdout",
     "output_type": "stream",
     "text": [
      "+-------+------+------+--------+-----+\n",
      "|Article|Agence|Client|Quantite|Annee|\n",
      "+-------+------+------+--------+-----+\n",
      "|      3|    75|  Toto|       2| 2021|\n",
      "|      2|    75|  Toto|       1| 2020|\n",
      "|      1|    51|  Toto|       5| 2021|\n",
      "|      2|    51|  Fofo|       6| 2021|\n",
      "+-------+------+------+--------+-----+\n",
      "\n"
     ]
    }
   ],
   "source": [
    "l4 = [('3','75','Toto','2','2021'),('2','75','Toto','1','2020'),('1','51','Toto','5','2021'),('2','51','Fofo','6','2021')]\n",
    "rdd4 = spark.sparkContext.parallelize(l4) #On obtient un rdd\\\n",
    "Vente = rdd4.toDF(['Article','Agence','Client','Quantite','Annee'])\n",
    "Vente.createOrReplaceTempView('VenteSQL')\n",
    "Vente.show()"
   ]
  },
  {
   "cell_type": "markdown",
   "metadata": {},
   "source": [
    "Question 1: Déterminer les prix de chaque produit"
   ]
  },
  {
   "cell_type": "code",
   "execution_count": 7,
   "metadata": {},
   "outputs": [
    {
     "name": "stdout",
     "output_type": "stream",
     "text": [
      "+-------+-------+----+\n",
      "|Produit| Marque|Prix|\n",
      "+-------+-------+----+\n",
      "|  Ecran|    Mac|  60|\n",
      "| Souris|   Sony|  10|\n",
      "|Clavier|Samsung|  20|\n",
      "+-------+-------+----+\n",
      "\n"
     ]
    }
   ],
   "source": [
    "# SQL\n",
    "spark.sql(''' select Produit, Marque, Prix \n",
    "              from PrixSQL \n",
    "              join ProduitSQL \n",
    "              on PrixSQL.Idm = ProduitSQL.Idm ''').show()"
   ]
  },
  {
   "cell_type": "code",
   "execution_count": 8,
   "metadata": {},
   "outputs": [
    {
     "name": "stdout",
     "output_type": "stream",
     "text": [
      "+-------+-------+----+\n",
      "|Produit| Marque|Prix|\n",
      "+-------+-------+----+\n",
      "|  Ecran|    Mac|  60|\n",
      "| Souris|   Sony|  10|\n",
      "|Clavier|Samsung|  20|\n",
      "+-------+-------+----+\n",
      "\n"
     ]
    }
   ],
   "source": [
    "# DSL\n",
    "Prix.join(Produit,['Idm']) \\\n",
    "          .select('Produit','Marque','Prix') \\\n",
    "          .show()"
   ]
  },
  {
   "cell_type": "markdown",
   "metadata": {},
   "source": [
    " Question 2: Déterminer le prix d'une souris Sony"
   ]
  },
  {
   "cell_type": "code",
   "execution_count": 9,
   "metadata": {},
   "outputs": [
    {
     "name": "stdout",
     "output_type": "stream",
     "text": [
      "+-------+------+----+\n",
      "|Produit|Marque|Prix|\n",
      "+-------+------+----+\n",
      "| Souris|  Sony|  10|\n",
      "+-------+------+----+\n",
      "\n"
     ]
    }
   ],
   "source": [
    "#SQL\n",
    "spark.sql(''' select Produit, Marque, Prix \n",
    "               from PrixSQL \n",
    "               join ProduitSQL \n",
    "               on PrixSQL.Idm = ProduitSQL.Idm\n",
    "               where Marque='Sony'\n",
    "               and Produit='Souris' ''').show()"
   ]
  },
  {
   "cell_type": "code",
   "execution_count": 10,
   "metadata": {},
   "outputs": [
    {
     "name": "stdout",
     "output_type": "stream",
     "text": [
      "+-------+------+----+\n",
      "|Produit|Marque|Prix|\n",
      "+-------+------+----+\n",
      "| Souris|  Sony|  10|\n",
      "+-------+------+----+\n",
      "\n"
     ]
    }
   ],
   "source": [
    "# DSL\n",
    "    #Solution 1\\n\",\n",
    "Prix.join(Produit,['Idm']) \\\n",
    "        .select('Produit','Marque','Prix') \\\n",
    "        .filter(F.col('Produit')=='Souris') \\\n",
    "        .filter(F.col('Marque')=='Sony') \\\n",
    "        .show()\n",
    "   \n"
   ]
  },
  {
   "cell_type": "code",
   "execution_count": 11,
   "metadata": {},
   "outputs": [
    {
     "name": "stdout",
     "output_type": "stream",
     "text": [
      "+-------+------+----+\n",
      "|Produit|Marque|Prix|\n",
      "+-------+------+----+\n",
      "| Souris|  Sony|  10|\n",
      "+-------+------+----+\n",
      "\n"
     ]
    }
   ],
   "source": [
    "   \n",
    "#Solution 2 \n",
    "Prix.join(Produit,['Idm']) \\\n",
    "       .select('Produit','Marque','Prix') \\\n",
    "       .filter((F.col('Produit')=='Souris') & (F.col('Marque')=='Sony')) \\\n",
    "        .show()\n",
    "   "
   ]
  },
  {
   "cell_type": "markdown",
   "metadata": {},
   "source": [
    "\"Question 3: Déterminer les articles que Toto a acheté en 2021\""
   ]
  },
  {
   "cell_type": "code",
   "execution_count": 12,
   "metadata": {},
   "outputs": [
    {
     "name": "stdout",
     "output_type": "stream",
     "text": [
      "+------+-------+\n",
      "|Client|Produit|\n",
      "+------+-------+\n",
      "|  Toto|  Ecran|\n",
      "|  Toto| Souris|\n",
      "+------+-------+\n",
      "\n"
     ]
    }
   ],
   "source": [
    "#SQL\n",
    "spark.sql(''' select Client, Produit\n",
    "            from VenteSQL \n",
    "            join ProduitSQL \n",
    "            on VenteSQL.Article = ProduitSQL.Idm\n",
    "            where Annee='2021'\n",
    "            and Client='Toto' ''').show()\n",
    "   "
   ]
  },
  {
   "cell_type": "code",
   "execution_count": 13,
   "metadata": {},
   "outputs": [
    {
     "name": "stdout",
     "output_type": "stream",
     "text": [
      "+------+-------+\n",
      "|Client|Produit|\n",
      "+------+-------+\n",
      "|  Toto|  Ecran|\n",
      "|  Toto| Souris|\n",
      "+------+-------+\n",
      "\n"
     ]
    }
   ],
   "source": [
    "# DSL\\n\",\n",
    "Vente.join(Produit,F.col('Article')==F.col('Idm')) \\\n",
    "    .select('Client','Produit') \\\n",
    "    .filter((F.col('Annee')=='2021') & (F.col('Client')=='Toto')) \\\n",
    "    .show()"
   ]
  },
  {
   "cell_type": "markdown",
   "metadata": {},
   "source": [
    "\"Question 4: Quel est le montant qu'a dépensé Toto en 2021?\""
   ]
  },
  {
   "cell_type": "code",
   "execution_count": 14,
   "metadata": {},
   "outputs": [
    {
     "name": "stdout",
     "output_type": "stream",
     "text": [
      "+------+-------+\n",
      "|Client|Depense|\n",
      "+------+-------+\n",
      "|  Toto|  170.0|\n",
      "+------+-------+\n",
      "\n"
     ]
    }
   ],
   "source": [
    "# SQL\n",
    "#Solution 1\\n\",\n",
    "spark.sql(''' select Client, sum(Quantite*Prix) as Depense\n",
    "               from VenteSQL\n",
    "               join PrixSQL \n",
    "               on VenteSQL.Article = PrixSQL.Idm\n",
    "               where Annee='2021'\n",
    "               and Client='Toto'\n",
    "               group by Client ''').show()"
   ]
  },
  {
   "cell_type": "code",
   "execution_count": 15,
   "metadata": {},
   "outputs": [
    {
     "name": "stdout",
     "output_type": "stream",
     "text": [
      "+------+-------+\n",
      "|Client|Depense|\n",
      "+------+-------+\n",
      "|  Toto|  170.0|\n",
      "+------+-------+\n",
      "\n"
     ]
    }
   ],
   "source": [
    "# DSL\\n\",\n",
    "Vente.join(Prix,F.col('Article')==F.col('Idm')) \\\n",
    "    .withColumn('Depense',F.col('Quantite')*F.col('Prix')) \\\n",
    "    .select('Client','Depense') \\\n",
    "    .filter((F.col('Annee')=='2021') & (F.col('Client')=='Toto')) \\\n",
    "    .groupBy('Client') \\\n",
    "    .agg(F.sum('Depense').alias('Depense')) \\\n",
    "     .show()"
   ]
  },
  {
   "cell_type": "markdown",
   "metadata": {},
   "source": [
    "Question 5 : Quel est le montant depensé par Toto en 2021 par agence ?  (A FAIRE: SQL ET DSL)\""
   ]
  },
  {
   "cell_type": "code",
   "execution_count": 16,
   "metadata": {},
   "outputs": [
    {
     "name": "stdout",
     "output_type": "stream",
     "text": [
      "+------+------+-------+\n",
      "|Client|Agence|Depense|\n",
      "+------+------+-------+\n",
      "|  Toto|    51|   50.0|\n",
      "|  Toto|    75|  120.0|\n",
      "+------+------+-------+\n",
      "\n"
     ]
    }
   ],
   "source": [
    "# DSL\n",
    "Vente.join(Prix,F.col('Article')==F.col('Idm')) \\\n",
    "       .withColumn('Depense',F.col('Quantite')*F.col('Prix')) \\\n",
    "       .select('Client','Agence','Depense') \\\n",
    "       .filter((F.col('Annee')=='2021') & (F.col('Client')=='Toto')) \\\n",
    "       .groupBy('Client','Agence') \\\n",
    "       .agg(F.sum('Depense').alias('Depense')) \\\n",
    "       .show()"
   ]
  },
  {
   "cell_type": "code",
   "execution_count": 25,
   "metadata": {},
   "outputs": [
    {
     "name": "stdout",
     "output_type": "stream",
     "text": [
      "+------+------+-------+\n",
      "|Client|Agence|Depense|\n",
      "+------+------+-------+\n",
      "|  Toto|    51|   50.0|\n",
      "|  Toto|    75|  120.0|\n",
      "+------+------+-------+\n",
      "\n"
     ]
    }
   ],
   "source": [
    "#SQL\n",
    "spark.sql(''' select Client, Agence, sum(Quantite*prix) as Depense\n",
    "              from VenteSQL\n",
    "              join PrixSQL \n",
    "              on VenteSQL.Article = PrixSQL.Idm\n",
    "              where Annee=='2021' and Client='Toto'\n",
    "              group by Client, Agence\n",
    "                ''').show()"
   ]
  },
  {
   "cell_type": "markdown",
   "metadata": {},
   "source": [
    "Question 6 : Calculer le chiffre d'affaires par agence. (Quantite vendu * Prix)\""
   ]
  },
  {
   "cell_type": "code",
   "execution_count": 17,
   "metadata": {},
   "outputs": [
    {
     "name": "stdout",
     "output_type": "stream",
     "text": [
      "+-------+---------------+\n",
      "|Adresse|Chiffre_Affaire|\n",
      "+-------+---------------+\n",
      "|  Reims|          170.0|\n",
      "|  Paris|          140.0|\n",
      "+-------+---------------+\n",
      "\n"
     ]
    }
   ],
   "source": [
    "### SQL,\n",
    "#Solution 1\n",
    "spark.sql(''' select AgenceSQL.Adresse, req.Chiffre_Affaire\n",
    "            from (select Agence, sum(Quantite*Prix) as Chiffre_Affaire\n",
    "                from VenteSQL\n",
    "                join PrixSQL \n",
    "                on VenteSQL.Article = PrixSQL.Idm\n",
    "                group by Agence ) req\n",
    "                join AgenceSQL on AgenceSQL.Id = req.Agence ''').show()"
   ]
  },
  {
   "cell_type": "code",
   "execution_count": 18,
   "metadata": {},
   "outputs": [
    {
     "name": "stdout",
     "output_type": "stream",
     "text": [
      "+-------+---------------+\n",
      "|Adresse|Chiffre_Affaire|\n",
      "+-------+---------------+\n",
      "|  Paris|          140.0|\n",
      "|  Reims|          170.0|\n",
      "+-------+---------------+\n",
      "\n"
     ]
    }
   ],
   "source": [
    "#Solution 2\n",
    "spark.sql(''' select A.Adresse, sum(Quantite*Prix) as Chiffre_Affaire\n",
    "            from VenteSQL as V, PrixSQL as P, AgenceSQL as A\n",
    "            where V.Article = P.Idm and A.Id = V.Agence\n",
    "            group by Adresse ''').show()"
   ]
  },
  {
   "cell_type": "code",
   "execution_count": 19,
   "metadata": {},
   "outputs": [
    {
     "name": "stdout",
     "output_type": "stream",
     "text": [
      "+-------+---------------+\n",
      "|Adresse|Chiffre_affaire|\n",
      "+-------+---------------+\n",
      "|  Paris|          140.0|\n",
      "|  Reims|          170.0|\n",
      "+-------+---------------+\n",
      "\n"
     ]
    }
   ],
   "source": [
    "#Solution 3 (A TESTER)\n",
    "spark.sql(''' select A.Adresse, sum(Quantite*Prix) as Chiffre_affaire\n",
    "              from VenteSQL as v join PrixSQL as p on v.Article=p.Idm \n",
    "              join AgenceSQL as A on A.Id = v.Agence\n",
    "              group by Adresse ''').show()"
   ]
  },
  {
   "cell_type": "code",
   "execution_count": 21,
   "metadata": {},
   "outputs": [
    {
     "name": "stdout",
     "output_type": "stream",
     "text": [
      "+-------+---------------+\n",
      "|Adresse|Chiffre_Affaire|\n",
      "+-------+---------------+\n",
      "|  Paris|          140.0|\n",
      "|  Reims|          170.0|\n",
      "+-------+---------------+\n",
      "\n"
     ]
    }
   ],
   "source": [
    "# DSL\n",
    "Vente.join(Prix,F.col('Idm')==F.col('Article')) \\\n",
    "    .join(Agence,F.col('Id')==F.col('Agence')) \\\n",
    "    .withColumn('CA',F.col('Quantite')*F.col('Prix')) \\\n",
    "    .groupBy('Adresse') \\\n",
    "    .agg(F.sum('CA').alias('Chiffre_Affaire')) \\\n",
    "    .show()"
   ]
  },
  {
   "cell_type": "markdown",
   "metadata": {},
   "source": [
    "Question 7 : Quel est le produit le plus acheté en 2021? SQL + DSL"
   ]
  },
  {
   "cell_type": "code",
   "execution_count": 17,
   "metadata": {},
   "outputs": [
    {
     "data": {
      "text/plain": [
       "Row(Produit='Clavier', Q1=6.0)"
      ]
     },
     "execution_count": 17,
     "metadata": {},
     "output_type": "execute_result"
    }
   ],
   "source": [
    "#sql\n",
    "spark.sql(''' select Produit, sum(Quantite) as Q1 \n",
    "               from VenteSQL\n",
    "               join ProduitSQL \n",
    "               on VenteSQL.Article = ProduitSQL.Idm\n",
    "               where Annee='2021'\n",
    "               group by Produit\n",
    "               order by Q1 desc''').first()\n"
   ]
  },
  {
   "cell_type": "code",
   "execution_count": 54,
   "metadata": {},
   "outputs": [
    {
     "data": {
      "text/plain": [
       "Row(Produit='Clavier', Annee='2021', Quantite='6')"
      ]
     },
     "execution_count": 54,
     "metadata": {},
     "output_type": "execute_result"
    }
   ],
   "source": [
    "#dsl\n",
    "# DSL\n",
    "Vente.join(Produit,F.col('Article')==F.col('Idm')) \\\n",
    "     .select('Produit','Annee', 'Quantite') \\\n",
    "     .filter((F.col('Annee')=='2021')) \\\n",
    "     .orderBy (F.col('Quantite').desc())\\\n",
    "     .first()"
   ]
  },
  {
   "cell_type": "markdown",
   "metadata": {},
   "source": [
    "Question 8 : Quel est le client qui a acheté le plus d'articles? SQL + DSL"
   ]
  },
  {
   "cell_type": "code",
   "execution_count": 72,
   "metadata": {},
   "outputs": [
    {
     "data": {
      "text/plain": [
       "Row(Client='Toto', QuanTotal=8.0)"
      ]
     },
     "execution_count": 72,
     "metadata": {},
     "output_type": "execute_result"
    }
   ],
   "source": [
    "#SQL\n",
    "\n",
    "spark.sql(''' select Client, sum(Quantite) as QuanTotal\n",
    "              from VenteSQL\n",
    "              group by Client\n",
    "              order by QuanTotal desc\n",
    "              ''').first()"
   ]
  },
  {
   "cell_type": "code",
   "execution_count": 79,
   "metadata": {},
   "outputs": [
    {
     "data": {
      "text/plain": [
       "Row(Client='Toto', QTotal=8.0)"
      ]
     },
     "execution_count": 79,
     "metadata": {},
     "output_type": "execute_result"
    }
   ],
   "source": [
    "#DSl\n",
    "Vente.select('Client','Quantite') \\\n",
    "    .groupBy('Client') \\\n",
    "    .agg(F.sum('Quantite').alias('QTotal'))\\\n",
    "    .orderBy (F.col('QTotal').desc())\\\n",
    "    .first()"
   ]
  },
  {
   "cell_type": "markdown",
   "metadata": {},
   "source": [
    "Question 9 : Quel est le client qui a dépensé le plus d'argent? SQL + DSL"
   ]
  },
  {
   "cell_type": "code",
   "execution_count": 13,
   "metadata": {},
   "outputs": [
    {
     "data": {
      "text/plain": [
       "Row(Client='Toto', Depense=190.0)"
      ]
     },
     "execution_count": 13,
     "metadata": {},
     "output_type": "execute_result"
    }
   ],
   "source": [
    "#SQL\n",
    "spark.sql(''' select Client, sum(Quantite*Prix) as Depense\n",
    "               from VenteSQL\n",
    "               join PrixSQL \n",
    "               on VenteSQL.Article = PrixSQL.Idm\n",
    "               group by Client \n",
    "               order by Depense desc''').first()"
   ]
  },
  {
   "cell_type": "code",
   "execution_count": 12,
   "metadata": {},
   "outputs": [
    {
     "data": {
      "text/plain": [
       "Row(Client='Toto', Depense=190.0)"
      ]
     },
     "execution_count": 12,
     "metadata": {},
     "output_type": "execute_result"
    }
   ],
   "source": [
    "#DSL\n",
    "Vente.join(Prix,F.col('Article')==F.col('Idm')) \\\n",
    "    .withColumn('Depense',F.col('Quantite')*F.col('Prix')) \\\n",
    "    .select('Client','Depense') \\\n",
    "    .groupBy('Client') \\\n",
    "    .agg(F.sum('Depense').alias('Depense')) \\\n",
    "    .orderBy (F.col('Depense').desc())\\\n",
    "    .first()"
   ]
  },
  {
   "cell_type": "code",
   "execution_count": null,
   "metadata": {},
   "outputs": [],
   "source": []
  }
 ],
 "metadata": {
  "kernelspec": {
   "display_name": "Python 3",
   "language": "python",
   "name": "python3"
  },
  "language_info": {
   "codemirror_mode": {
    "name": "ipython",
    "version": 3
   },
   "file_extension": ".py",
   "mimetype": "text/x-python",
   "name": "python",
   "nbconvert_exporter": "python",
   "pygments_lexer": "ipython3",
   "version": "3.8.5"
  }
 },
 "nbformat": 4,
 "nbformat_minor": 4
}
